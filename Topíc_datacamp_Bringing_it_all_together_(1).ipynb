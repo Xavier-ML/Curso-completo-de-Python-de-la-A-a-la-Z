{
  "nbformat": 4,
  "nbformat_minor": 0,
  "metadata": {
    "colab": {
      "provenance": [],
      "authorship_tag": "ABX9TyMUVTW35ru5IEGgi3GxPs/2",
      "include_colab_link": true
    },
    "kernelspec": {
      "name": "python3",
      "display_name": "Python 3"
    },
    "language_info": {
      "name": "python"
    }
  },
  "cells": [
    {
      "cell_type": "markdown",
      "metadata": {
        "id": "view-in-github",
        "colab_type": "text"
      },
      "source": [
        "<a href=\"https://colab.research.google.com/github/Xavier-ML/Curso-completo-de-Python-de-la-A-a-la-Z/blob/main/Top%C3%ADc_datacamp_Bringing_it_all_together_(1).ipynb\" target=\"_parent\"><img src=\"https://colab.research.google.com/assets/colab-badge.svg\" alt=\"Open In Colab\"/></a>"
      ]
    },
    {
      "cell_type": "markdown",
      "source": [
        "### **uniéndolo todo (1)**  \n",
        "Recuerde el ejercicio Uniendo todo en el capítulo anterior donde hizo un análisis simple de Twitter desarrollando una función que cuenta cuántos tweets hay en ciertos idiomas. El resultado de su función fue un diccionario que tenía el idioma como clave y el conteo de tweets en ese idioma como valor .\n",
        "\n",
        "En este ejercicio, generalizaremos el análisis del lenguaje de Twitter que realizó en el capítulo anterior. Lo hará incluyendo un argumento predeterminado que tome un nombre de columna.\n",
        "\n",
        "Para su comodidad, pandasse ha importado como pdy el 'tweets.csv'archivo se ha importado a DataFrame tweets_df. También se proporcionan partes del código de su trabajo anterior."
      ],
      "metadata": {
        "id": "Y2JDVPvfKvxx"
      }
    },
    {
      "cell_type": "markdown",
      "source": [
        "### Instrucciones\n",
        "1. Complete el encabezado de la función proporcionando el parámetro para un DataFrame df y el parámetro col_namecon un valor predeterminado de 'lang'para el nombre de la columna DataFrame.  \n",
        "2. Llame count_entries()pasando el tweets_dfDataFrame y el nombre de la columna 'lang'. Asigne el resultado a result1. Tenga en cuenta que dado que 'lang'es el valor predeterminado del col_nameparámetro, no es necesario que lo especifique aquí.  \n",
        "3. Llame count_entries()pasando el tweets_dfDataFrame y el nombre de la columna 'source'. Asigne el resultado a result2.  "
      ],
      "metadata": {
        "id": "0RKoFTCtKvga"
      }
    },
    {
      "cell_type": "markdown",
      "source": [
        "    # Define count_entries()\n",
        "    def count_entries(____, ____):\n",
        "        \"\"\"Return a dictionary with counts of\n",
        "        occurrences as value for each key.\"\"\"\n",
        "\n",
        "        # Initialize an empty dictionary: cols_count\n",
        "        cols_count = {}\n",
        "\n",
        "        # Extract column from DataFrame: col\n",
        "        col = df[col_name]\n",
        "        \n",
        "        # Iterate over the column in DataFrame\n",
        "        for entry in col:\n",
        "\n",
        "            # If entry is in cols_count, add 1\n",
        "            if entry in cols_count.keys():\n",
        "                cols_count[entry] += 1\n",
        "\n",
        "            # Else add the entry to cols_count, set the value to 1\n",
        "            else:\n",
        "                cols_count[entry] = 1\n",
        "\n",
        "        # Return the cols_count dictionary\n",
        "        return cols_count\n",
        "\n",
        "    # Call count_entries(): result1\n",
        "    result1 = ____\n",
        "\n",
        "    # Call count_entries(): result2\n",
        "    result2 = ____\n",
        "\n",
        "    # Print result1 and result2\n",
        "    print(result1)\n",
        "    print(result2)"
      ],
      "metadata": {
        "id": "giw88vpaLtum"
      }
    },
    {
      "cell_type": "code",
      "execution_count": null,
      "metadata": {
        "id": "CNmi6SV5JOcb"
      },
      "outputs": [],
      "source": [
        "# Define count_entries()\n",
        "def count_entries(df, col_name='lang'):\n",
        "    \"\"\"Return a dictionary with counts of\n",
        "    occurrences as value for each key.\"\"\"\n",
        "\n",
        "    # Initialize an empty dictionary: cols_count\n",
        "    cols_count = {}\n",
        "    \n",
        "    # Extract column from DataFrame: col\n",
        "    col = df[col_name]\n",
        "\n",
        "    # Iterate over the column in DataFrame\n",
        "    for entry in col:\n",
        "\n",
        "        # If entry is in cols_count, add 1\n",
        "        if entry in cols_count.keys():\n",
        "            cols_count[entry] += 1\n",
        "\n",
        "        # Else add the entry to cols_count, set the value to 1\n",
        "        else:\n",
        "            cols_count[entry] = 1\n",
        "\n",
        "    # Return the cols_count dictionary\n",
        "    return cols_count\n",
        "\n",
        "# Call count_entries(): result1\n",
        "result1 = count_entries(tweets_df, col_name='lang')\n",
        "\n",
        "# Call count_entries(): result2\n",
        "result2 = count_entries(tweets_df, col_name='source')\n",
        "\n",
        "# Print result1 and result2\n",
        "print(result1)\n",
        "print(result2)"
      ]
    }
  ]
}