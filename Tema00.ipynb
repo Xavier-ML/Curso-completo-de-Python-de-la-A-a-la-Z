{
  "nbformat": 4,
  "nbformat_minor": 0,
  "metadata": {
    "colab": {
      "provenance": [],
      "include_colab_link": true
    },
    "kernelspec": {
      "name": "python3",
      "display_name": "Python 3"
    }
  },
  "cells": [
    {
      "cell_type": "markdown",
      "metadata": {
        "id": "view-in-github",
        "colab_type": "text"
      },
      "source": [
        "<a href=\"https://colab.research.google.com/github/Xavier-ML/Curso-completo-de-Python-de-la-A-a-la-Z/blob/main/Tema00.ipynb\" target=\"_parent\"><img src=\"https://colab.research.google.com/assets/colab-badge.svg\" alt=\"Open In Colab\"/></a>"
      ]
    },
    {
      "cell_type": "markdown",
      "metadata": {
        "id": "9LqdYr4h3SqJ"
      },
      "source": [
        "# Antes de empezar"
      ]
    },
    {
      "cell_type": "markdown",
      "metadata": {
        "id": "ebSYX-S7VnY_"
      },
      "source": [
        "## Materiales del curso\n",
        "\n",
        "En este curso vamos a utilizar **Google Colaboratory**.\n",
        "\n",
        "Necesitarás:\n",
        "\n",
        "- Cuenta con acceso a Google Drive\n",
        "- Descargar la aplicación Colaboratory de Google Drive"
      ]
    },
    {
      "cell_type": "markdown",
      "metadata": {
        "id": "IsaIeq4vZBSM"
      },
      "source": [
        "# Funcionamiento de Google Colaboratory"
      ]
    },
    {
      "cell_type": "code",
      "metadata": {
        "id": "IVFFaGXaZFCs",
        "colab": {
          "base_uri": "https://localhost:8080/"
        },
        "outputId": "3c049695-0307-41d6-b6bf-d4116bb10dc7"
      },
      "source": [
        "# Esto es un comentario en un bloque de código\n",
        "2 + 2"
      ],
      "execution_count": null,
      "outputs": [
        {
          "output_type": "execute_result",
          "data": {
            "text/plain": [
              "4"
            ]
          },
          "metadata": {
            "tags": []
          },
          "execution_count": 4
        }
      ]
    },
    {
      "cell_type": "markdown",
      "source": [
        "# los usuarios con Markdown\n",
        "link de ayuda para empezar con Markdown\n",
        "\n",
        "[guia practica de Mardown](https://www.markdowntutorial.com/)"
      ],
      "metadata": {
        "id": "_9k45s7Afuw1"
      }
    },
    {
      "cell_type": "markdown",
      "metadata": {
        "id": "IaHGbOrNY1yu"
      },
      "source": [
        "Esto es un bloque de Texto\n",
        "\n",
        "# Esto es un Título 1\n",
        "\n",
        "## Esto es un Título 2\n",
        "\n",
        "### Esto es un Título 3\n",
        "\n",
        "#### Esto es un Título 4\n",
        "\n",
        "**Texto en negrita**\n",
        "\n",
        "*Texto en cursiva*\n",
        "\n",
        "- Elemento 1 de una lista no numerada\n",
        "- Elemento 2 de una lista no numerada\n",
        "- Elemento 3 de una lista no numerada\n",
        "\n",
        "1. Elemento 1 de una lista numerada\n",
        "    \n",
        "    1.1. Elemento 1.1. de una lista numerada\n",
        "      \n",
        "    1.2. Elemento 1.2. de una lista numerada \n",
        "2. Elemento 2 de una lista numerada\n",
        "    \n",
        "    a. Apartado a)\n",
        "\n",
        "    b. Apartado b)\n",
        "3. Elemento 3 de una lista numerada\n",
        "\n",
        "  Nuevo párrafo dentro del tercer elemento de una lista numerada\n",
        "\n",
        "\n",
        "Para insertar un enlace: [texto del enlace](link del enlace)\n",
        "\n",
        "Para insertar una imagen: ![texto de imagen](link de imagen)\n",
        "\n",
        "---\n",
        "\n",
        "Fórmula matemática dentro de línea: $2 + 2 = 4$\n",
        "\n",
        "Fórmula matemática centrada en línea aparte: $$2 + 2 = 4$$\n"
      ]
    },
    {
      "cell_type": "markdown",
      "source": [
        "# Nueva sección"
      ],
      "metadata": {
        "id": "qBjZDWlUfOJ-"
      }
    },
    {
      "cell_type": "code",
      "source": [
        "4 + 5"
      ],
      "metadata": {
        "id": "hU0Xccj6fQ-3",
        "outputId": "76d7bbd7-c478-46de-e7f9-32e600299b18",
        "colab": {
          "base_uri": "https://localhost:8080/"
        }
      },
      "execution_count": null,
      "outputs": [
        {
          "output_type": "execute_result",
          "data": {
            "text/plain": [
              "9"
            ]
          },
          "metadata": {},
          "execution_count": 1
        }
      ]
    },
    {
      "cell_type": "markdown",
      "source": [
        "curso guiado por las clases virtuales en (https://cursos.frogamesformacion.com/courses/take/python-az/lessons/36419365-tu-cuaderno-para-tomar-notas-online-sobre-el-curso)"
      ],
      "metadata": {
        "id": "Zy4lVvp1KAck"
      }
    }
  ]
}