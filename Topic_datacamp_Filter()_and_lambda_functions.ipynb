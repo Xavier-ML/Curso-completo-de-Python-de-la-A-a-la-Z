{
  "nbformat": 4,
  "nbformat_minor": 0,
  "metadata": {
    "colab": {
      "provenance": [],
      "authorship_tag": "ABX9TyPWu7LbQaTKKE51+CFYhZp7",
      "include_colab_link": true
    },
    "kernelspec": {
      "name": "python3",
      "display_name": "Python 3"
    },
    "language_info": {
      "name": "python"
    }
  },
  "cells": [
    {
      "cell_type": "markdown",
      "metadata": {
        "id": "view-in-github",
        "colab_type": "text"
      },
      "source": [
        "<a href=\"https://colab.research.google.com/github/Xavier-ML/Curso-completo-de-Python-de-la-A-a-la-Z/blob/main/Topic_datacamp_Filter()_and_lambda_functions.ipynb\" target=\"_parent\"><img src=\"https://colab.research.google.com/assets/colab-badge.svg\" alt=\"Open In Colab\"/></a>"
      ]
    },
    {
      "cell_type": "markdown",
      "source": [
        "###**Filter() y funciones lambda**\n",
        "En el ejercicio anterior, utilizó funciones lambda para insertar de forma anónima una operación dentro de map(). ¡Practicará esto nuevamente en este ejercicio usando una función lambda con filter(), que puede ser nueva para usted! La función filter()ofrece una forma de filtrar elementos de una lista que no cumplen ciertos criterios.\n",
        "\n",
        "Su objetivo en este ejercicio es usar filter()para crear, a partir de una lista de cadenas de entrada, una nueva lista que contenga solo cadenas que tengan más de 6 caracteres."
      ],
      "metadata": {
        "id": "KXRTGbqxr9gE"
      }
    },
    {
      "cell_type": "markdown",
      "source": [
        "### Instrucciones\n",
        "1. En la filter()llamada, pase una función lambda y la lista de cadenas, fellowship. La función lambda debería comprobar si el número de caracteres de una cadena memberes superior a 6; use la len()función para hacer esto. Asigne el objeto de filtro resultante a result.  \n",
        "2. Convierta result a una lista e imprima la lista."
      ],
      "metadata": {
        "id": "jGqczDRLr9YH"
      }
    },
    {
      "cell_type": "code",
      "execution_count": 5,
      "metadata": {
        "colab": {
          "base_uri": "https://localhost:8080/"
        },
        "id": "LI78ogyzrI6f",
        "outputId": "7413e178-68f8-4ae9-fa2a-b912af7bc949"
      },
      "outputs": [
        {
          "output_type": "stream",
          "name": "stdout",
          "text": [
            "['samwise', 'aragorn', 'boromir', 'legolas', 'gandalf']\n"
          ]
        }
      ],
      "source": [
        "# Create a list of strings: fellowship\n",
        "fellowship = ['frodo', 'samwise', 'merry', 'pippin', 'aragorn', 'boromir', 'legolas', 'gimli', 'gandalf']\n",
        "\n",
        "# Use filter() to apply a lambda function over fellowship: result\n",
        "result = filter(lambda member: len(member) > 6, fellowship)\n",
        "\n",
        "# Convert result to a list: result_list\n",
        "result_list = list(result)\n",
        "\n",
        "# Print result_list\n",
        "print(result_list)"
      ]
    }
  ]
}