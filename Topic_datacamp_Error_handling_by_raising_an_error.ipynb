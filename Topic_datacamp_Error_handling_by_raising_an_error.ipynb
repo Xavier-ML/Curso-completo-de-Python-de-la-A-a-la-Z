{
  "nbformat": 4,
  "nbformat_minor": 0,
  "metadata": {
    "colab": {
      "provenance": [],
      "authorship_tag": "ABX9TyPEbZrUfDD3JIIwLTV5RT7j",
      "include_colab_link": true
    },
    "kernelspec": {
      "name": "python3",
      "display_name": "Python 3"
    },
    "language_info": {
      "name": "python"
    }
  },
  "cells": [
    {
      "cell_type": "markdown",
      "metadata": {
        "id": "view-in-github",
        "colab_type": "text"
      },
      "source": [
        "<a href=\"https://colab.research.google.com/github/Xavier-ML/Curso-completo-de-Python-de-la-A-a-la-Z/blob/main/Topic_datacamp_Error_handling_by_raising_an_error.ipynb\" target=\"_parent\"><img src=\"https://colab.research.google.com/assets/colab-badge.svg\" alt=\"Open In Colab\"/></a>"
      ]
    },
    {
      "cell_type": "markdown",
      "source": [
        "###**Manejo de errores generando un error**\n",
        "Otra forma de generar un error es usando raise. En este ejercicio, agregará una raisedeclaración a la shout_echo()función que definió antes para generar un mensaje de error cuando el valor proporcionado por el usuario al echoargumento sea menor que 0.  \n",
        "\n",
        "La llamada a shout_echo()utiliza valores de argumento válidos. Para probar y ver cómo raisefunciona la declaración, simplemente cambie el valor del echoargumento a un valor negativo . ¡No olvide volver a cambiarlo a valores válidos para pasar al siguiente ejercicio!"
      ],
      "metadata": {
        "id": "WJZv0XRaBTfy"
      }
    },
    {
      "cell_type": "markdown",
      "source": [
        "### Instrucciones\n",
        "1. Completa el ifenunciado comprobando si el valor de echoes menor que 0.  \n",
        "2. En el cuerpo de la ifdeclaración, agregue una raisedeclaración que genere un ValueErrormensaje with 'echo must be greater than or equal to 0' cuando el valor proporcionado por el usuario echosea menor que 0.  "
      ],
      "metadata": {
        "id": "U5DNI9_cBTXE"
      }
    },
    {
      "cell_type": "markdown",
      "source": [
        "    # Define shout_echo\n",
        "    def shout_echo(word1, echo=1):\n",
        "        \"\"\"Concatenate echo copies of word1 and three\n",
        "        exclamation marks at the end of the string.\"\"\"\n",
        "\n",
        "        # Raise an error with raise\n",
        "        if ____:\n",
        "            ____ ____(____)\n",
        "\n",
        "        # Concatenate echo copies of word1 using *: echo_word\n",
        "        echo_word = word1 * echo\n",
        "\n",
        "        # Concatenate '!!!' to echo_word: shout_word\n",
        "        shout_word = echo_word + '!!!'\n",
        "\n",
        "        # Return shout_word\n",
        "        return shout_word\n",
        "\n",
        "    # Call shout_echo\n",
        "    shout_echo(\"particle\", echo=5)"
      ],
      "metadata": {
        "id": "HlQYN4EmCBVv"
      }
    },
    {
      "cell_type": "code",
      "execution_count": 1,
      "metadata": {
        "colab": {
          "base_uri": "https://localhost:8080/",
          "height": 35
        },
        "id": "qgOVvb7CAKBv",
        "outputId": "f8d505f9-3fc2-4727-b38c-bd6be2b14dff"
      },
      "outputs": [
        {
          "output_type": "execute_result",
          "data": {
            "text/plain": [
              "'particleparticleparticleparticleparticle!!!'"
            ],
            "application/vnd.google.colaboratory.intrinsic+json": {
              "type": "string"
            }
          },
          "metadata": {},
          "execution_count": 1
        }
      ],
      "source": [
        "# Define shout_echo\n",
        "def shout_echo(word1, echo=1):\n",
        "    \"\"\"Concatenate echo copies of word1 and three\n",
        "    exclamation marks at the end of the string.\"\"\"\n",
        "\n",
        "    # Raise an error with raise\n",
        "    if echo<0:\n",
        "        raise ValueError('echo must be greater than or equal to 0')\n",
        "\n",
        "    # Concatenate echo copies of word1 using *: echo_word\n",
        "    echo_word = word1 * echo\n",
        "\n",
        "    # Concatenate '!!!' to echo_word: shout_word\n",
        "    shout_word = echo_word + '!!!'\n",
        "\n",
        "    # Return shout_word\n",
        "    return shout_word\n",
        "\n",
        "# Call shout_echo\n",
        "shout_echo(\"particle\", echo=5)"
      ]
    }
  ]
}