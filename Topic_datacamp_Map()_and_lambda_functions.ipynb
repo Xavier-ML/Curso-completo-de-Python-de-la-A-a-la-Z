{
  "nbformat": 4,
  "nbformat_minor": 0,
  "metadata": {
    "colab": {
      "provenance": [],
      "authorship_tag": "ABX9TyOnCxFGYHCqdnnr/srI6eOY",
      "include_colab_link": true
    },
    "kernelspec": {
      "name": "python3",
      "display_name": "Python 3"
    },
    "language_info": {
      "name": "python"
    }
  },
  "cells": [
    {
      "cell_type": "markdown",
      "metadata": {
        "id": "view-in-github",
        "colab_type": "text"
      },
      "source": [
        "<a href=\"https://colab.research.google.com/github/Xavier-ML/Curso-completo-de-Python-de-la-A-a-la-Z/blob/main/Topic_datacamp_Map()_and_lambda_functions.ipynb\" target=\"_parent\"><img src=\"https://colab.research.google.com/assets/colab-badge.svg\" alt=\"Open In Colab\"/></a>"
      ]
    },
    {
      "cell_type": "markdown",
      "source": [
        "###**Map() y funciones lambda**\n",
        "Hasta ahora, ha utilizado funciones lambda para escribir funciones breves y sencillas, así como para redefinir funciones con una funcionalidad sencilla. Sin embargo, el mejor caso de uso para las funciones lambda es cuando desea que estas funcionalidades simples se incrusten de forma anónima en expresiones más grandes. Lo que eso significa es que la funcionalidad no se almacena en el entorno, a diferencia de una función definida con def. Para comprender mejor esta idea, utilizará una función lambda en el contexto de la map()función.\n",
        "\n",
        "Recuerda del video que map()aplica una función sobre un objeto, como una lista. Aquí, puede usar funciones lambda para definir la función que map()usará para procesar el objeto. Por ejemplo:\n",
        "\n",
        "    nums = [2, 4, 6, 8, 10]\n",
        "\n",
        "    result = map(lambda a: a ** 2, nums)\n",
        "\n",
        "Puede ver aquí que una función lambda, que eleva un valor aa la potencia de 2, se pasa map()junto con una lista de números, nums. El objeto de mapa que resulta de la llamada a map()se almacena en result. Ahora practicará el uso de funciones lambda con map(). Para este ejercicio, asignará la funcionalidad de la add_bangs()función que definió en ejercicios anteriores sobre una lista de cadenas."
      ],
      "metadata": {
        "id": "CtNrvhaAmEiJ"
      }
    },
    {
      "cell_type": "markdown",
      "source": [
        "### instrucciones\n",
        "1. En la map()llamada, pase una función lambda que concatene la cadena '!!!'a una cadena item; también pasa la lista de cadenas, spells. Asigne el objeto de mapa resultante a shout_spells.  \n",
        "2. Convierta shout_spellsa una lista e imprima la lista."
      ],
      "metadata": {
        "id": "YLSY7Yowoy7w"
      }
    },
    {
      "cell_type": "code",
      "execution_count": 1,
      "metadata": {
        "colab": {
          "base_uri": "https://localhost:8080/"
        },
        "id": "CyKiw-yelv-B",
        "outputId": "8d24e68c-49d3-4b9c-818e-18bdfa78cc21"
      },
      "outputs": [
        {
          "output_type": "stream",
          "name": "stdout",
          "text": [
            "['protego!!!', 'accio!!!', 'expecto patronum!!!', 'legilimens!!!']\n"
          ]
        }
      ],
      "source": [
        "# Create a list of strings: spells\n",
        "spells = [\"protego\", \"accio\", \"expecto patronum\", \"legilimens\"]\n",
        "\n",
        "# Use map() to apply a lambda function over spells: shout_spells\n",
        "shout_spells= map(lambda a:a + \"!!!\", spells)\n",
        "\n",
        "# Convert shout_spells to a list: shout_spells_list\n",
        "shout_spells_list = list(shout_spells)\n",
        "\n",
        "# Print the result\n",
        "print(shout_spells_list)"
      ]
    }
  ]
}