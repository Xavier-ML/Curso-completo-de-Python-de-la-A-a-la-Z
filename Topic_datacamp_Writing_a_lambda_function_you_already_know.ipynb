{
  "nbformat": 4,
  "nbformat_minor": 0,
  "metadata": {
    "colab": {
      "provenance": [],
      "authorship_tag": "ABX9TyNscVCXMAOLUKo1zsMtRo/7",
      "include_colab_link": true
    },
    "kernelspec": {
      "name": "python3",
      "display_name": "Python 3"
    },
    "language_info": {
      "name": "python"
    }
  },
  "cells": [
    {
      "cell_type": "markdown",
      "metadata": {
        "id": "view-in-github",
        "colab_type": "text"
      },
      "source": [
        "<a href=\"https://colab.research.google.com/github/Xavier-ML/Curso-completo-de-Python-de-la-A-a-la-Z/blob/main/Topic_datacamp_Writing_a_lambda_function_you_already_know.ipynb\" target=\"_parent\"><img src=\"https://colab.research.google.com/assets/colab-badge.svg\" alt=\"Open In Colab\"/></a>"
      ]
    },
    {
      "cell_type": "markdown",
      "source": [
        "###**Escribiendo una función lambda que ya conoces**\n",
        "Algunas definiciones de funciones son lo suficientemente simples como para convertirlas en una función lambda. Al hacer esto, escribe menos líneas de código, lo cual es bastante impresionante y será útil, especialmente cuando esté escribiendo y manteniendo programas grandes. En este ejercicio, utilizará lo que sabe sobre las funciones lambda para convertir una función que realiza una tarea simple en una función lambda. Echa un vistazo a esta definición de función:  \n",
        "\n",
        "    def echo_word(word1, echo):  \n",
        "        \"\"\"Concatenate echo copies of word1.\"\"\"  \n",
        "        words = word1 * echo  \n",
        "        return words  \n",
        "\n",
        "La función echo_wordtoma 2 parámetros: un valor de cadena word1y un valor entero, echo. Devuelve una cadena que es una concatenación de echocopias de word1. Su tarea es convertir esta función simple en una función lambda."
      ],
      "metadata": {
        "id": "SuULZ04Nh3ke"
      }
    },
    {
      "cell_type": "markdown",
      "source": [
        "### Instrucciones\n",
        "1. Defina la función lambda echo_wordutilizando las variables word1y echo. Replique lo que hace la definición de función original para echo_word()arriba.  \n",
        "2. Llame echo_word()con el argumento de cadena 'hey'y el valor 5, en ese orden. Asigne la llamada a result."
      ],
      "metadata": {
        "id": "SegqybJ9h3cH"
      }
    },
    {
      "cell_type": "code",
      "execution_count": 1,
      "metadata": {
        "colab": {
          "base_uri": "https://localhost:8080/"
        },
        "id": "lDw8ujd0cDW2",
        "outputId": "8cced0bc-ca0c-45e0-8088-8ef051f00f97"
      },
      "outputs": [
        {
          "output_type": "stream",
          "name": "stdout",
          "text": [
            "heyheyheyheyhey\n"
          ]
        }
      ],
      "source": [
        "# Define echo_word as a lambda function: echo_word\n",
        "echo_word = (lambda word1, echo: word1*echo)\n",
        "\n",
        "# Call echo_word: result\n",
        "result = echo_word('hey', 5)\n",
        "\n",
        "# Print result\n",
        "print(result)"
      ]
    }
  ]
}