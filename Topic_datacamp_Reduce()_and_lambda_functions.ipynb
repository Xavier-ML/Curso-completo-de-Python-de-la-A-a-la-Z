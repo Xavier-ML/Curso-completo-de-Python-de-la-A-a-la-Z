{
  "nbformat": 4,
  "nbformat_minor": 0,
  "metadata": {
    "colab": {
      "provenance": [],
      "authorship_tag": "ABX9TyPbz8CrO2VSirf1Bgq3FApo",
      "include_colab_link": true
    },
    "kernelspec": {
      "name": "python3",
      "display_name": "Python 3"
    },
    "language_info": {
      "name": "python"
    }
  },
  "cells": [
    {
      "cell_type": "markdown",
      "metadata": {
        "id": "view-in-github",
        "colab_type": "text"
      },
      "source": [
        "<a href=\"https://colab.research.google.com/github/Xavier-ML/Curso-completo-de-Python-de-la-A-a-la-Z/blob/main/Topic_datacamp_Reduce()_and_lambda_functions.ipynb\" target=\"_parent\"><img src=\"https://colab.research.google.com/assets/colab-badge.svg\" alt=\"Open In Colab\"/></a>"
      ]
    },
    {
      "cell_type": "markdown",
      "source": [
        "###**Reduce() y funciones lambda**\n",
        "¡Te estás volviendo muy bueno usando funciones lambda! Aquí hay una función más para agregar a su repertorio de habilidades. La reduce()función es útil para realizar algunos cálculos en una lista y, a diferencia de map() y filter(), devuelve un único valor como resultado. Para usarlo reduce(), debe importarlo desde el functoolsmódulo.\n",
        "\n",
        "¿ Recuerdas gibberish()algunos ejercicios atrás?\n",
        "\n",
        "    # Define gibberish\n",
        "    def gibberish(*args):\n",
        "        \"\"\"Concatenate strings in *args together.\"\"\"\n",
        "        hodgepodge = ''\n",
        "        for word in args:\n",
        "            hodgepodge += word\n",
        "        return hodgepodge\n",
        "\n",
        "gibberish()simplemente toma una lista de cadenas como argumento y devuelve, como resultado de un solo valor, la concatenación de todas estas cadenas. En este ejercicio, replicará esta funcionalidad mediante el uso reduce()de una función lambda que concatena cadenas."
      ],
      "metadata": {
        "id": "heV00rqd0hUp"
      }
    },
    {
      "cell_type": "markdown",
      "source": [
        "### Instrucciones\n",
        "1. Importe la reducefunción desde el functoolsmódulo.  \n",
        "2. En la reduce()llamada, pase una función lambda que tome dos argumentos de cadena item1y item2los concatene; también pasa la lista de cadenas, stark. Asigne el resultado a result. El primer argumento reduce()debe ser la función lambda y el segundo argumento es la lista stark."
      ],
      "metadata": {
        "id": "Zx8A-yUr0hKC"
      }
    },
    {
      "cell_type": "markdown",
      "source": [
        "    # Import reduce from functools\n",
        "\n",
        "\n",
        "    # Create a list of strings: stark\n",
        "    stark = ['robb', 'sansa', 'arya', 'brandon', 'rickon']\n",
        "\n",
        "    # Use reduce() to apply a lambda function over stark: result\n",
        "    result = reduce(____, ____)\n",
        "\n",
        "    # Print the result\n",
        "    print(result)"
      ],
      "metadata": {
        "id": "N8RqEJI065si"
      }
    },
    {
      "cell_type": "code",
      "execution_count": 1,
      "metadata": {
        "colab": {
          "base_uri": "https://localhost:8080/"
        },
        "id": "2TM0SBpz0E2p",
        "outputId": "f6a1814e-948c-424d-db12-987d4c98acbf"
      },
      "outputs": [
        {
          "output_type": "stream",
          "name": "stdout",
          "text": [
            "robbsansaaryabrandonrickon\n"
          ]
        }
      ],
      "source": [
        "# Import reduce from functools\n",
        "\n",
        "from functools import reduce \n",
        "# Create a list of strings: stark\n",
        "stark = ['robb', 'sansa', 'arya', 'brandon', 'rickon']\n",
        "\n",
        "# Use reduce() to apply a lambda function over stark: result\n",
        "result = reduce(lambda item1, item2:item1 + item2, stark)\n",
        "\n",
        "# Print the result\n",
        "print(result)"
      ]
    }
  ]
}