{
  "nbformat": 4,
  "nbformat_minor": 0,
  "metadata": {
    "colab": {
      "provenance": [],
      "authorship_tag": "ABX9TyMZSnLjln3W+b1mS18XoBec",
      "include_colab_link": true
    },
    "kernelspec": {
      "name": "python3",
      "display_name": "Python 3"
    },
    "language_info": {
      "name": "python"
    }
  },
  "cells": [
    {
      "cell_type": "markdown",
      "metadata": {
        "id": "view-in-github",
        "colab_type": "text"
      },
      "source": [
        "<a href=\"https://colab.research.google.com/github/Xavier-ML/Curso-completo-de-Python-de-la-A-a-la-Z/blob/main/Topic_datacamp_Bringing_it_all_together_(2).ipynb\" target=\"_parent\"><img src=\"https://colab.research.google.com/assets/colab-badge.svg\" alt=\"Open In Colab\"/></a>"
      ]
    },
    {
      "cell_type": "markdown",
      "source": [
        "### **uniéndolo todo (2)**  \n",
        "Wow, acabas de generalizar tu análisis del lenguaje de Twitter que hiciste en el capítulo anterior para incluir un argumento predeterminado para el nombre de la columna. Ahora va a generalizar esta función un paso más al permitir que el usuario le pase un argumento flexible, es decir, en este caso, ¡tantos nombres de columna como el usuario quiera!\n",
        "\n",
        "Una vez más, para su comodidad, pandasse ha importado como pdy el 'tweets.csv'archivo se ha importado al DataFrame tweets_df. También se proporcionan partes del código de su trabajo anterior."
      ],
      "metadata": {
        "id": "VeIzCL8wSLM4"
      }
    },
    {
      "cell_type": "markdown",
      "source": [
        "### Instrucciones\n",
        "1. Complete el encabezado de la función proporcionando el parámetro para DataFrame dfy el argumento flexible *args.  \n",
        "2. Complete el forciclo dentro de la definición de la función para que el ciclo ocurra sobre la tupla args.  \n",
        "3. Llame count_entries()pasando el tweets_dfDataFrame y el nombre de la columna 'lang'. Asigne el resultado a result1.  \n",
        "4. Llame count_entries()pasando el tweets_dfDataFrame y los nombres de las columnas 'lang'y 'source'. Asigne el resultado a result2."
      ],
      "metadata": {
        "id": "NcMhHGM6SLCR"
      }
    },
    {
      "cell_type": "markdown",
      "source": [
        "    # Define count_entries()\n",
        "    def ____(____, ____):\n",
        "        \"\"\"Return a dictionary with counts of\n",
        "        occurrences as value for each key.\"\"\"\n",
        "        \n",
        "        #Initialize an empty dictionary: cols_count\n",
        "        cols_count = {}\n",
        "        \n",
        "        # Iterate over column names in args\n",
        "        for col_name in ____:\n",
        "        \n",
        "            # Extract column from DataFrame: col\n",
        "            col = df[col_name]\n",
        "        \n",
        "            # Iterate over the column in DataFrame\n",
        "            for entry in col:\n",
        "        \n",
        "                # If entry is in cols_count, add 1\n",
        "                if entry in cols_count.keys():\n",
        "                    cols_count[entry] += 1\n",
        "        \n",
        "                # Else add the entry to cols_count, set the value to 1\n",
        "                else:\n",
        "                    cols_count[entry] = 1\n",
        "\n",
        "        # Return the cols_count dictionary\n",
        "        return cols_count\n",
        "\n",
        "    # Call count_entries(): result1\n",
        "    result1 = count_entries(____, ____)\n",
        "\n",
        "    # Call count_entries(): result2\n",
        "    result2 = count_entries(____, ____, ____)\n",
        "\n",
        "    # Print result1 and result2\n",
        "    print(result1)\n",
        "    print(result2)"
      ],
      "metadata": {
        "id": "OUA62UOUTC61"
      }
    },
    {
      "cell_type": "code",
      "execution_count": null,
      "metadata": {
        "id": "2XOoZNrhQh4E"
      },
      "outputs": [],
      "source": [
        "# Define count_entries()\n",
        "def count_entries(df, *args):\n",
        "    \"\"\"Return a dictionary with counts of\n",
        "    occurrences as value for each key.\"\"\"\n",
        "    \n",
        "    #Initialize an empty dictionary: cols_count\n",
        "    cols_count = {}\n",
        "    \n",
        "    # Iterate over column names in args\n",
        "    for col_name in args:\n",
        "    \n",
        "        # Extract column from DataFrame: col\n",
        "        col = df[col_name]\n",
        "    \n",
        "        # Iterate over the column in DataFrame\n",
        "        for entry in col:\n",
        "    \n",
        "            # If entry is in cols_count, add 1\n",
        "            if entry in cols_count.keys():\n",
        "                cols_count[entry] += 1\n",
        "    \n",
        "            # Else add the entry to cols_count, set the value to 1\n",
        "            else:\n",
        "                cols_count[entry] = 1\n",
        "\n",
        "    # Return the cols_count dictionary\n",
        "    return cols_count\n",
        "\n",
        "# Call count_entries(): result1\n",
        "result1 = count_entries(tweets_df, 'lang')\n",
        "\n",
        "# Call count_entries(): result2\n",
        "result2 = count_entries(tweets_df, 'lang', 'source')\n",
        "\n",
        "# Print result1 and result2\n",
        "print(result1)\n",
        "print(result2)"
      ]
    }
  ]
}