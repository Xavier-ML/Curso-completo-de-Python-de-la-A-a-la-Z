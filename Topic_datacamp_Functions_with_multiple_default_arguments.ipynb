{
  "nbformat": 4,
  "nbformat_minor": 0,
  "metadata": {
    "colab": {
      "provenance": [],
      "authorship_tag": "ABX9TyO0RVa/GMhMBCrdX087VBso",
      "include_colab_link": true
    },
    "kernelspec": {
      "name": "python3",
      "display_name": "Python 3"
    },
    "language_info": {
      "name": "python"
    }
  },
  "cells": [
    {
      "cell_type": "markdown",
      "metadata": {
        "id": "view-in-github",
        "colab_type": "text"
      },
      "source": [
        "<a href=\"https://colab.research.google.com/github/Xavier-ML/Curso-completo-de-Python-de-la-A-a-la-Z/blob/main/Topic_datacamp_Functions_with_multiple_default_arguments.ipynb\" target=\"_parent\"><img src=\"https://colab.research.google.com/assets/colab-badge.svg\" alt=\"Open In Colab\"/></a>"
      ]
    },
    {
      "cell_type": "markdown",
      "source": [
        "###**Funciones con múltiples argumentos por defecto**  \n",
        "Ahora ha definido una función que usa un argumento predeterminado. ¡No se detenga ahí todavía! Ahora intentará definir una función con más de un argumento predeterminado y luego llamará a esta función de varias maneras.\n",
        "\n",
        "Después de definir la función, la llamará proporcionando valores a todos los argumentos predeterminados de la función. Además, llamará a la función al no pasar un valor a uno de los argumentos predeterminados. ¡Vea cómo eso cambia la salida de su función!"
      ],
      "metadata": {
        "id": "uJqJqVtD4Zii"
      }
    },
    {
      "cell_type": "markdown",
      "source": [
        "### Instrucciones  \n",
        "1. Complete el encabezado de la función con el nombre de la función shout_echo. Acepta un argumento word1, un argumento predeterminado echocon valor predeterminado 1 y un argumento predeterminado intensecon valor predeterminado False, en ese orden.  \n",
        "2. En el cuerpo de la ifdeclaración, convierta el objeto de cadena echo_worden mayúsculas aplicando el método .upper()en él.  \n",
        "3. Llame shout_echo()con la cadena, \"Hey\"el valor 5de echoy el valor Truede intense. Asigne el resultado a with_big_echo.  \n",
        "4. Llame shout_echo()con la cadena \"Hey\"y el valor Truede intense. Asigne el resultado a big_no_echo."
      ],
      "metadata": {
        "id": "sIVK6sNW4fmX"
      }
    },
    {
      "cell_type": "markdown",
      "source": [
        "    # Define shout_echo\n",
        "    def ____(____, ____, ____):\n",
        "        \"\"\"Concatenate echo copies of word1 and three\n",
        "        exclamation marks at the end of the string.\"\"\"\n",
        "\n",
        "        # Concatenate echo copies of word1 using *: echo_word\n",
        "        echo_word = word1 * echo\n",
        "\n",
        "        # Make echo_word uppercase if intense is True\n",
        "        if intense is True:\n",
        "            # Make uppercase and concatenate '!!!': echo_word_new\n",
        "            echo_word_new = ____ + '!!!'\n",
        "        else:\n",
        "            # Concatenate '!!!' to echo_word: echo_word_new\n",
        "            echo_word_new = echo_word + '!!!'\n",
        "\n",
        "        # Return echo_word_new\n",
        "        return echo_word_new\n",
        "\n",
        "    # Call shout_echo() with \"Hey\", echo=5 and intense=True: with_big_echo\n",
        "    with_big_echo = ____\n",
        "\n",
        "    # Call shout_echo() with \"Hey\" and intense=True: big_no_echo\n",
        "    big_no_echo = ____\n",
        "\n",
        "    # Print values\n",
        "    print(with_big_echo)\n",
        "    print(big_no_echo)"
      ],
      "metadata": {
        "id": "RkKP2dwD5Ffh"
      }
    },
    {
      "cell_type": "code",
      "execution_count": 2,
      "metadata": {
        "colab": {
          "base_uri": "https://localhost:8080/"
        },
        "id": "7TlCtoGg2MHq",
        "outputId": "1aaa1e0e-acb8-4062-cd07-f340b4514096"
      },
      "outputs": [
        {
          "output_type": "stream",
          "name": "stdout",
          "text": [
            "HEYHEYHEYHEYHEY!!!\n",
            "HEY!!!\n"
          ]
        }
      ],
      "source": [
        "# Define shout_echo\n",
        "def shout_echo(word1, echo=1, intense = False):\n",
        "    \"\"\"Concatenate echo copies of word1 and three\n",
        "    exclamation marks at the end of the string.\"\"\"\n",
        "\n",
        "    # Concatenate echo copies of word1 using *: echo_word\n",
        "    echo_word = word1 * echo\n",
        "\n",
        "    # Make echo_word uppercase if intense is True\n",
        "    if intense is True:\n",
        "        # Make uppercase and concatenate '!!!': echo_word_new\n",
        "        echo_word_new = echo_word.upper() + '!!!'\n",
        "    else:\n",
        "        # Concatenate '!!!' to echo_word: echo_word_new\n",
        "        echo_word_new = echo_word + '!!!'\n",
        "\n",
        "    # Return echo_word_new\n",
        "    return echo_word_new\n",
        "\n",
        "# Call shout_echo() with \"Hey\", echo=5 and intense=True: with_big_echo\n",
        "with_big_echo = shout_echo(\"Hey\", echo = 5, intense = True)\n",
        "\n",
        "# Call shout_echo() with \"Hey\" and intense=True: big_no_echo\n",
        "big_no_echo = shout_echo(\"Hey\", intense = True)\n",
        "\n",
        "# Print values\n",
        "print(with_big_echo)\n",
        "print(big_no_echo)"
      ]
    },
    {
      "cell_type": "code",
      "source": [],
      "metadata": {
        "id": "E4-4OAus78zA"
      },
      "execution_count": null,
      "outputs": []
    }
  ]
}