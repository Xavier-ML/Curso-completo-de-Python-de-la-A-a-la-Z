{
  "nbformat": 4,
  "nbformat_minor": 0,
  "metadata": {
    "colab": {
      "provenance": [],
      "authorship_tag": "ABX9TyMFyrkqJaoyoytUgJTLxobK",
      "include_colab_link": true
    },
    "kernelspec": {
      "name": "python3",
      "display_name": "Python 3"
    },
    "language_info": {
      "name": "python"
    }
  },
  "cells": [
    {
      "cell_type": "markdown",
      "metadata": {
        "id": "view-in-github",
        "colab_type": "text"
      },
      "source": [
        "<a href=\"https://colab.research.google.com/github/Xavier-ML/Curso-completo-de-Python-de-la-A-a-la-Z/blob/main/Topic_datacamp_Functions_with_variable_length_arguments_(_args).ipynb\" target=\"_parent\"><img src=\"https://colab.research.google.com/assets/colab-badge.svg\" alt=\"Open In Colab\"/></a>"
      ]
    },
    {
      "cell_type": "markdown",
      "source": [
        "###**Funciones con argumentos de longitud variable (*args)**\n",
        "Los argumentos flexibles le permiten pasar un número variable de argumentos a una función. En este ejercicio, practicará la definición de una función que acepta un número variable de argumentos de cadena.\n",
        "\n",
        "La función que definirá es gibberish()la que puede aceptar un número variable de valores de cadena. Su valor devuelto es una sola cadena compuesta por todos los argumentos de cadena concatenados en el orden en que se pasaron a la llamada de función. Llamará a la función con un solo argumento de cadena y verá cómo cambia la salida con otra llamada que use más de un argumento de cadena. Recuerda del video anterior que, dentro de la definición de la función, argses una tupla."
      ],
      "metadata": {
        "id": "iX3dsxSv85Bs"
      }
    },
    {
      "cell_type": "markdown",
      "source": [
        "### Instrucciones\n",
        "1. Complete el encabezado de la función con el nombre de la función gibberish. Acepta un único argumento flexible *args.  \n",
        "2. Inicializar una variable hodgepodgea una cadena vacía.  \n",
        "3. Devuelve la variable hodgepodgeal final del cuerpo de la función.  \n",
        "4. Llame gibberish()con la cadena única, \"luke\". Asigne el resultado a one_word.  \n",
        "5. Presione el botón Enviar para llamar gibberish()con múltiples argumentos e imprimir el valor en el Shell.  "
      ],
      "metadata": {
        "id": "cwtBooC89Cg4"
      }
    },
    {
      "cell_type": "markdown",
      "source": [
        "    # Define gibberish\n",
        "    def ____(____):\n",
        "        \"\"\"Concatenate strings in *args together.\"\"\"\n",
        "\n",
        "        # Initialize an empty string: hodgepodge\n",
        "        \n",
        "\n",
        "        # Concatenate the strings in args\n",
        "        for word in args:\n",
        "            hodgepodge += word\n",
        "\n",
        "        # Return hodgepodge\n",
        "        ____\n",
        "\n",
        "    # Call gibberish() with one string: one_word\n",
        "    one_word = ____\n",
        "\n",
        "    # Call gibberish() with five strings: many_words\n",
        "    many_words = gibberish(\"luke\", \"leia\", \"han\", \"obi\", \"darth\")\n",
        "\n",
        "    # Print one_word and many_words\n",
        "    print(one_word)\n",
        "    print(many_words)"
      ],
      "metadata": {
        "id": "MJBLRU9C9x0B"
      }
    },
    {
      "cell_type": "code",
      "execution_count": 4,
      "metadata": {
        "colab": {
          "base_uri": "https://localhost:8080/"
        },
        "id": "kah_r1I58xGk",
        "outputId": "6d82034e-f058-4c23-d0bd-b844988dcf7d"
      },
      "outputs": [
        {
          "output_type": "stream",
          "name": "stdout",
          "text": [
            "luke\n",
            "lukeleiahanobidarth\n"
          ]
        }
      ],
      "source": [
        "# Define gibberish\n",
        "def gibberish(*args):\n",
        "    \"\"\"Concatenate strings in *args together.\"\"\"\n",
        "\n",
        "    # Initialize an empty string: hodgepodge\n",
        "    hodgepodge = \"\"\n",
        "\n",
        "    # Concatenate the strings in args\n",
        "    for word in args:\n",
        "        hodgepodge += word\n",
        "\n",
        "    # Return hodgepodge\n",
        "    return hodgepodge\n",
        "\n",
        "# Call gibberish() with one string: one_word\n",
        "one_word = gibberish(\"luke\")\n",
        "\n",
        "# Call gibberish() with five strings: many_words\n",
        "many_words = gibberish(\"luke\", \"leia\", \"han\", \"obi\", \"darth\")\n",
        "\n",
        "# Print one_word and many_words\n",
        "print(one_word)\n",
        "print(many_words)"
      ]
    }
  ]
}