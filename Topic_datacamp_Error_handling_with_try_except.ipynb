{
  "nbformat": 4,
  "nbformat_minor": 0,
  "metadata": {
    "colab": {
      "provenance": [],
      "authorship_tag": "ABX9TyP8B9Y8oVhMDUr5heLKYYF1",
      "include_colab_link": true
    },
    "kernelspec": {
      "name": "python3",
      "display_name": "Python 3"
    },
    "language_info": {
      "name": "python"
    }
  },
  "cells": [
    {
      "cell_type": "markdown",
      "metadata": {
        "id": "view-in-github",
        "colab_type": "text"
      },
      "source": [
        "<a href=\"https://colab.research.google.com/github/Xavier-ML/Curso-completo-de-Python-de-la-A-a-la-Z/blob/main/Topic_datacamp_Error_handling_with_try_except.ipynb\" target=\"_parent\"><img src=\"https://colab.research.google.com/assets/colab-badge.svg\" alt=\"Open In Colab\"/></a>"
      ]
    },
    {
      "cell_type": "markdown",
      "source": [
        "###**Manejo de errores con try-except**\n",
        "Una buena práctica al escribir sus propias funciones también es anticipar las formas en que otras personas (o usted mismo, si accidentalmente hace un mal uso de su propia función) podrían usar la función que definió.\n",
        "\n",
        "Como en el ejercicio anterior, vio que la len()función puede manejar argumentos de entrada como cadenas, listas y tuplas, pero no de tipo int y genera un error y un mensaje de error apropiados cuando encuentra argumentos de entrada no válidos. Una forma de hacerlo es a través del manejo de excepciones con el try-exceptbloque.\n",
        "\n",
        "En este ejercicio, definirá una función y utilizará un try-exceptbloque para manejar casos cuando se pasan argumentos de entrada incorrectos a la función.\n",
        "\n",
        "Recuerde la shout_echo()función que definió en ejercicios anteriores; partes de la definición de la función se proporcionan en el código de ejemplo. Su objetivo es completar el código de manejo de excepciones en la definición de la función y proporcionar un mensaje de error apropiado al generar un error."
      ],
      "metadata": {
        "id": "p8jPU6axDyjH"
      }
    },
    {
      "cell_type": "markdown",
      "source": [
        "### Instrucciones\n",
        "1. Inicialice las variables echo_wordy shout_wordsvacíe las cadenas.  \n",
        "2. Agregue las palabras clave try y excepten las ubicaciones adecuadas para el bloque de manejo de excepciones.  \n",
        "3. Utilice el *operador para concatenar echocopias de word1. Asigne el resultado a echo_word.  \n",
        "4. Concatenar la cadena '!!!'a echo_word. Asigne el resultado a shout_words.  "
      ],
      "metadata": {
        "id": "BgkYoHDRDya6"
      }
    },
    {
      "cell_type": "markdown",
      "source": [
        "    # Define shout_echo\n",
        "    def shout_echo(word1, echo=1):\n",
        "        \"\"\"Concatenate echo copies of word1 and three\n",
        "        exclamation marks at the end of the string.\"\"\"\n",
        "\n",
        "        # Initialize empty strings: echo_word, shout_words\n",
        "        \n",
        "        \n",
        "\n",
        "        # Add exception handling with try-except\n",
        "        ____:\n",
        "            # Concatenate echo copies of word1 using *: echo_word\n",
        "            echo_word = ____\n",
        "\n",
        "            # Concatenate '!!!' to echo_word: shout_words\n",
        "            shout_words = ____\n",
        "        ____:\n",
        "            # Print error message\n",
        "            print(\"word1 must be a string and echo must be an integer.\")\n",
        "\n",
        "        # Return shout_words\n",
        "        return shout_words\n",
        "\n",
        "    # Call shout_echo\n",
        "    shout_echo(\"particle\", echo=\"accelerator\")"
      ],
      "metadata": {
        "id": "FHbJkaMxFoh4"
      }
    },
    {
      "cell_type": "code",
      "execution_count": 1,
      "metadata": {
        "id": "vYYLaQQi9hD2",
        "colab": {
          "base_uri": "https://localhost:8080/",
          "height": 53
        },
        "outputId": "16a69c17-6c7b-42ee-c7ac-9bf1aeac17cd"
      },
      "outputs": [
        {
          "output_type": "stream",
          "name": "stdout",
          "text": [
            "word1 must be a string and echo must be an integer.\n"
          ]
        },
        {
          "output_type": "execute_result",
          "data": {
            "text/plain": [
              "''"
            ],
            "application/vnd.google.colaboratory.intrinsic+json": {
              "type": "string"
            }
          },
          "metadata": {},
          "execution_count": 1
        }
      ],
      "source": [
        "# Define shout_echo\n",
        "def shout_echo(word1, echo=1):\n",
        "    \"\"\"Concatenate echo copies of word1 and three\n",
        "    exclamation marks at the end of the string.\"\"\"\n",
        "\n",
        "    # Initialize empty strings: echo_word, shout_words\n",
        "    echo_word = ''\n",
        "    shout_words = ''\n",
        "    \n",
        "\n",
        "    # Add exception handling with try-except\n",
        "    try:\n",
        "        # Concatenate echo copies of word1 using *: echo_word\n",
        "        echo_word = word1*echo\n",
        "\n",
        "        # Concatenate '!!!' to echo_word: shout_words\n",
        "        shout_words = echo_word + '!!!'\n",
        "    except:\n",
        "        # Print error message\n",
        "        print(\"word1 must be a string and echo must be an integer.\")\n",
        "\n",
        "    # Return shout_words\n",
        "    \n",
        "    return shout_words\n",
        "\n",
        "# Call shout_echo\n",
        "shout_echo(\"particle\", echo=\"accelerator\")"
      ]
    }
  ]
}