{
  "nbformat": 4,
  "nbformat_minor": 0,
  "metadata": {
    "colab": {
      "provenance": [],
      "authorship_tag": "ABX9TyMXBGHXURdVoYE4j5ipJ6y4",
      "include_colab_link": true
    },
    "kernelspec": {
      "name": "python3",
      "display_name": "Python 3"
    },
    "language_info": {
      "name": "python"
    }
  },
  "cells": [
    {
      "cell_type": "markdown",
      "metadata": {
        "id": "view-in-github",
        "colab_type": "text"
      },
      "source": [
        "<a href=\"https://colab.research.google.com/github/Xavier-ML/Curso-completo-de-Python-de-la-A-a-la-Z/blob/main/Topic_datacamp_Functions_with_one_default_argument.ipynb\" target=\"_parent\"><img src=\"https://colab.research.google.com/assets/colab-badge.svg\" alt=\"Open In Colab\"/></a>"
      ]
    },
    {
      "cell_type": "markdown",
      "source": [
        "###**Funciones con un argumento predeterminado**  \n",
        "En el capítulo anterior, aprendió a definir funciones con más de un parámetro y luego llamar a esas funciones pasando la cantidad requerida de argumentos. En el último video, Hugo se basó en esta idea al mostrarle cómo definir funciones con argumentos predeterminados. Practicará esa habilidad en este ejercicio escribiendo una función que usa un argumento predeterminado y luego llamando a la función un par de veces."
      ],
      "metadata": {
        "id": "rzNBQUSPwiX6"
      }
    },
    {
      "cell_type": "markdown",
      "source": [
        "### Instrucciones  \n",
        "1. Complete el encabezado de la función con el nombre de la función shout_echo. Acepta un argumento word1y un argumento predeterminado echocon valor predeterminado 1, en ese orden.  \n",
        "2. Utilice el *operador para concatenar echocopias de word1. Asigne el resultado a echo_word.  \n",
        "3. Llame shout_echo()con solo la cadena, \"Hey\". Asigne el resultado a no_echo.  \n",
        "4. Llame shout_echo()con la cadena \"Hey\"y el valor 5del argumento predeterminado, echo. Asigne el resultado a with_echo."
      ],
      "metadata": {
        "id": "9h8QlmaXxHYP"
      }
    },
    {
      "cell_type": "markdown",
      "source": [
        "    # Define shout_echo\n",
        "    def ____(____, ____):\n",
        "        \"\"\"Concatenate echo copies of word1 and three\n",
        "        exclamation marks at the end of the string.\"\"\"\n",
        "\n",
        "        # Concatenate echo copies of word1 using *: echo_word\n",
        "        echo_word = ____\n",
        "\n",
        "        # Concatenate '!!!' to echo_word: shout_word\n",
        "        shout_word = echo_word + '!!!'\n",
        "\n",
        "        # Return shout_word\n",
        "        return shout_word\n",
        "\n",
        "    # Call shout_echo() with \"Hey\": no_echo\n",
        "    no_echo = ____\n",
        "\n",
        "    # Call shout_echo() with \"Hey\" and echo=5: with_echo\n",
        "    with_echo = ____\n",
        "\n",
        "    # Print no_echo and with_echo\n",
        "    print(no_echo)\n",
        "    print(with_echo)"
      ],
      "metadata": {
        "id": "aRrUlMNlyH8L"
      }
    },
    {
      "cell_type": "code",
      "execution_count": 1,
      "metadata": {
        "colab": {
          "base_uri": "https://localhost:8080/"
        },
        "id": "YIozdVqYwFMq",
        "outputId": "c585165f-2e25-435b-9e14-4a2676568403"
      },
      "outputs": [
        {
          "output_type": "stream",
          "name": "stdout",
          "text": [
            "Hey!!!\n",
            "HeyHeyHeyHeyHey!!!\n"
          ]
        }
      ],
      "source": [
        "# Define shout_echo\n",
        "def shout_echo(word1, echo = 1):\n",
        "    \"\"\"Concatenate echo copies of word1 and three\n",
        "     exclamation marks at the end of the string.\"\"\"\n",
        "\n",
        "    # Concatenate echo copies of word1 using *: echo_word\n",
        "    echo_word = word1*echo\n",
        "\n",
        "    # Concatenate '!!!' to echo_word: shout_word\n",
        "    shout_word = echo_word + '!!!'\n",
        "\n",
        "    # Return shout_word\n",
        "    return shout_word\n",
        "\n",
        "# Call shout_echo() with \"Hey\": no_echo\n",
        "no_echo = shout_echo(\"Hey\")\n",
        "\n",
        "# Call shout_echo() with \"Hey\" and echo=5: with_echo\n",
        "with_echo = shout_echo(\"Hey\",echo=5)\n",
        "\n",
        "# Print no_echo and with_echo\n",
        "print(no_echo)\n",
        "print(with_echo)"
      ]
    },
    {
      "cell_type": "code",
      "source": [],
      "metadata": {
        "id": "9pSEgpFU19f5"
      },
      "execution_count": null,
      "outputs": []
    }
  ]
}