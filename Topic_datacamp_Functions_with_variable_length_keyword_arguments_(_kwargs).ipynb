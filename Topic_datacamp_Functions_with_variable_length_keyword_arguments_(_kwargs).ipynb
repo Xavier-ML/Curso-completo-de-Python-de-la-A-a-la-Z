{
  "nbformat": 4,
  "nbformat_minor": 0,
  "metadata": {
    "colab": {
      "provenance": [],
      "authorship_tag": "ABX9TyOfkxsw+DiEj/MKQvA9olYE",
      "include_colab_link": true
    },
    "kernelspec": {
      "name": "python3",
      "display_name": "Python 3"
    },
    "language_info": {
      "name": "python"
    }
  },
  "cells": [
    {
      "cell_type": "markdown",
      "metadata": {
        "id": "view-in-github",
        "colab_type": "text"
      },
      "source": [
        "<a href=\"https://colab.research.google.com/github/Xavier-ML/Curso-completo-de-Python-de-la-A-a-la-Z/blob/main/Topic_datacamp_Functions_with_variable_length_keyword_arguments_(_kwargs).ipynb\" target=\"_parent\"><img src=\"https://colab.research.google.com/assets/colab-badge.svg\" alt=\"Open In Colab\"/></a>"
      ]
    },
    {
      "cell_type": "markdown",
      "source": [
        "### Funciones con argumentos de palabra clave de longitud variable (**kwargs) \n",
        "Avancemos más en lo que aprendió sobre los argumentos flexibles: ¡ha usado *args, ahora va a usar **kwargs! Lo que lo hace **kwargsdiferente es que le permite pasar un número variable de argumentos de palabras clave a las funciones. Recuerde del video anterior que, dentro de la definición de función, kwargses un diccionario.\n",
        "\n",
        "Para comprender mejor esta idea, utilizará **kwargsen este ejercicio para definir una función que acepte un número variable de argumentos de palabras clave. La función simula un sistema de informe de estado simple que imprime el estado de un personaje en una película."
      ],
      "metadata": {
        "id": "tZ3wcS3zE9KH"
      }
    },
    {
      "cell_type": "markdown",
      "source": [
        "### Instrucciones\n",
        "1. Complete el encabezado de la función con el nombre de la función report_status. Acepta un único argumento flexible **kwargs.  \n",
        "2. Iterar sobre los pares clave-valor de kwargspara imprimir las claves y los valores, separados por dos puntos ':'.  \n",
        "3. En la primera llamada a report_status(), pase los siguientes pares de palabras clave y valores name=\"luke\": affiliation=\"jedi\"y status=\"missing\".  \n",
        "4. En la segunda llamada a report_status(), pase los siguientes pares de palabras clave y valores name=\"anakin\": affiliation=\"sith lord\"y status=\"deceased\".  "
      ],
      "metadata": {
        "id": "zpaNm2GHFOaX"
      }
    },
    {
      "cell_type": "markdown",
      "source": [
        "    # Define report_status\n",
        "    def ____(____):\n",
        "        \"\"\"Print out the status of a movie character.\"\"\"\n",
        "\n",
        "        print(\"\\nBEGIN: REPORT\\n\")\n",
        "\n",
        "        # Iterate over the key-value pairs of kwargs\n",
        "        for ____, ____ in kwargs.items():\n",
        "            # Print out the keys and values, separated by a colon ':'\n",
        "            print(____ + \": \" + ____)\n",
        "\n",
        "        print(\"\\nEND REPORT\")\n",
        "\n",
        "    # First call to report_status()\n",
        "\n",
        "\n",
        "    # Second call to report_status()\n",
        "    report_status(name=____, affiliation=____, status=____)"
      ],
      "metadata": {
        "id": "WfWkGXMEFchI"
      }
    },
    {
      "cell_type": "code",
      "execution_count": 4,
      "metadata": {
        "colab": {
          "base_uri": "https://localhost:8080/"
        },
        "id": "p57dPrPP_7D_",
        "outputId": "bcff0012-96ed-4119-ec26-ba852630349d"
      },
      "outputs": [
        {
          "output_type": "stream",
          "name": "stdout",
          "text": [
            "\n",
            "BEGIN: REPORT\n",
            "\n",
            "name: luke\n",
            "affiliation: jedi\n",
            "status: missing\n",
            "\n",
            "END REPORT\n",
            "\n",
            "BEGIN: REPORT\n",
            "\n",
            "name: anakin\n",
            "affiliation: sith lord\n",
            "status: deceased\n",
            "\n",
            "END REPORT\n"
          ]
        }
      ],
      "source": [
        "# Define report_status\n",
        "def report_status(**kwargs):\n",
        "    \"\"\"Print out the status of a movie character.\"\"\"\n",
        "\n",
        "    print(\"\\nBEGIN: REPORT\\n\")\n",
        "\n",
        "    # Iterate over the key-value pairs of kwargs\n",
        "    for keys, values in kwargs.items():\n",
        "        # Print out the keys and values, separated by a colon ':'\n",
        "        print(keys + \": \" + values)\n",
        "\n",
        "    print(\"\\nEND REPORT\")\n",
        "\n",
        "# First call to report_status()\n",
        "report_status(name=\"luke\", affiliation=\"jedi\",status=\"missing\")\n",
        "\n",
        "# Second call to report_status()\n",
        "report_status(name=\"anakin\", affiliation=\"sith lord\", status=\"deceased\")"
      ]
    }
  ]
}